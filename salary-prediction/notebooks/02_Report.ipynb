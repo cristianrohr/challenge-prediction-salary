{
 "cells": [
  {
   "cell_type": "markdown",
   "id": "179b4786-842d-4e6a-aa8a-673deae68cd2",
   "metadata": {},
   "source": [
    "# Salary Prediction Model Report\n",
    "\n",
    "## Table of Contents\n",
    "\n",
    "1. [Introduction](#introduction)  \n",
    "2. [Project Setup & Kedro Context](#setup)  \n",
    "3. [Data Overview](#data-overview)  \n",
    "   - 3.1. [Raw Datasets](#raw-datasets)  \n",
    "   - 3.2. [Target Variable](#target-variable)  \n",
    "   - 3.3. [Missing Data & Quality Checks](#missing-data)  \n",
    "4. [Preprocessing & Feature Engineering](#feature-engineering)  \n",
    "   - 4.1. [Preprocessing Versions](#preprocessing-versions)    \n",
    "5. [Modeling Approach](#modeling-approach)  \n",
    "   - 5.1. [Baseline & Linear Models](#baseline-linear)  \n",
    "   - 5.2. [Regularized Models (Lasso, ElasticNet)](#regularized-models)  \n",
    "   - 5.3. [Tree-Based Models (RF, XGBoost)](#tree-models)  \n",
    "   - 5.4. [Hyperparameter Optimization](#hyperparameter-optimization)  \n",
    "   - 5.5. [SHAP-Based Feature Selection](#shap-selection)  \n",
    "6. [Model Evaluation](#evaluation)  \n",
    "   - 6.1. [Evaluation Metrics](#metrics-explained)  \n",
    "   - 6.2. [Confidence Intervals](#confidence-intervals)  \n",
    "   - 6.3. [Performance Comparison Table](#comparison-table)  \n",
    "7. [Best Model Deep Dive](#best-model)  \n",
    "   - 7.1. [Feature Importance (SHAP)](#feature-importance)  \n",
    "   - 7.2. [Residual Analysis](#residual-analysis)  \n",
    "8. [Conclusion & Next Steps](#conclusion)  "
   ]
  },
  {
   "cell_type": "markdown",
   "id": "d8a97a85-986d-4ece-ab63-c387d58911ef",
   "metadata": {},
   "source": [
    "## 1. Introduction"
   ]
  },
  {
   "cell_type": "markdown",
   "id": "87d664dc-c533-4060-989c-4b5a8d9957fe",
   "metadata": {},
   "source": [
    "This project was developed as part of a technical challenge. The goal is to design, implement, and evaluate a machine learning model capable of predicting an individual's salary based on structured features provided in a public dataset.\n",
    "\n",
    "The dataset includes the following columns:\n",
    "- Age\n",
    "- Gender\n",
    "- Education level\n",
    "- Job title\n",
    "- Years of experience\n",
    "- Description (free-text field)\n",
    "\n",
    "The predictive task is to estimate the salary from these features, using Python-based tools and best practices in modular code development.\n",
    "\n",
    "### Challenge Goals\n",
    "\n",
    "The technical requirements for the challenge included:\n",
    "- Developing a predictive model with a clean and modular Python codebase\n",
    "- Applying preprocessing and feature transformations\n",
    "- Evaluating model performance using appropriate metrics and confidence intervals\n",
    "- Including a clear comparison with a sensible baseline (e.g., DummyRegressor)\n",
    "- Presenting final results in a well-documented Jupyter Notebook\n",
    "- Hosting the solution in a public GitHub repository\n",
    "\n",
    "### Project Design Overview\n",
    "\n",
    "To address the challenge in a structured and scalable way, this project was implemented using **[Kedro](https://kedro.org/)** — a Python framework for reproducible, modular data science workflows.\n",
    "\n",
    "The core of this project is divided into:\n",
    "1. **Preprocessing Pipelines**: Structured in two alternative versions (v1 and v2) to experiment with different feature engineering strategies.\n",
    "2. **Modeling Pipeline**: Trains and evaluates a wide range of regressors, including baseline, linear, regularized, and tree-based models.\n",
    "3. **Reporting Pipeline**: Aggregates and visualizes model performance, selects top models, and explains results using tools like SHAP.\n",
    "\n",
    "Although the dataset includes a free-text `description` field, it was **intentionally excluded** from the modeling process in this version, to focus on structured features and simplify the development pipeline.\n"
   ]
  },
  {
   "cell_type": "markdown",
   "id": "8ebd41d0-398a-4bc9-8b91-7a16300e55b2",
   "metadata": {},
   "source": [
    "<a id=\"setup\"></a>\n",
    "## 2. Project Setup & Kedro Context"
   ]
  },
  {
   "cell_type": "markdown",
   "id": "4b05fac1-c340-4fc2-977c-00debd46141e",
   "metadata": {},
   "source": [
    "This project follows a modular structure using **Kedro**, which organizes code into independent pipelines for data preprocessing, modeling, and reporting.\n",
    "\n",
    "The directory structure includes:\n",
    "- `src/salary_prediction/pipelines/data_processing`: Data cleaning, splitting, and feature engineering (v1 and v2)\n",
    "- `src/salary_prediction/pipelines/data_science`: Model training, hyperparameter optimization, SHAP analysis\n",
    "- `src/salary_prediction/pipelines/reporting`: Visualization, model comparison, and selection\n",
    "\n",
    "Kedro allows us to:\n",
    "- Run partial pipelines with version control\n",
    "- Pass parameters via `parameters.yml`\n",
    "- Use a `DataCatalog` to manage datasets cleanly\n",
    "\n",
    "\n"
   ]
  },
  {
   "cell_type": "code",
   "execution_count": 1,
   "id": "93a48dd4-d656-44a8-a783-e7e3d100bf03",
   "metadata": {},
   "outputs": [
    {
     "data": {
      "text/html": [
       "<pre style=\"white-space:pre;overflow-x:auto;line-height:normal;font-family:Menlo,'DejaVu Sans Mono',consolas,'Courier New',monospace\"><span style=\"color: #7fbfbf; text-decoration-color: #7fbfbf\">[04/16/25 09:23:59] </span><span style=\"color: #000080; text-decoration-color: #000080\">INFO    </span> Using                                                                  <a href=\"file:///home/cristian/repos/challenge-salary-prediction/venv/lib/python3.12/site-packages/kedro/framework/project/__init__.py\" target=\"_blank\"><span style=\"color: #7f7f7f; text-decoration-color: #7f7f7f\">__init__.py</span></a><span style=\"color: #7f7f7f; text-decoration-color: #7f7f7f\">:</span><a href=\"file:///home/cristian/repos/challenge-salary-prediction/venv/lib/python3.12/site-packages/kedro/framework/project/__init__.py#270\" target=\"_blank\"><span style=\"color: #7f7f7f; text-decoration-color: #7f7f7f\">270</span></a>\n",
       "<span style=\"color: #7fbfbf; text-decoration-color: #7fbfbf\">                    </span>         <span style=\"color: #008000; text-decoration-color: #008000\">'/home/cristian/repos/challenge-salary-prediction/venv/lib/python3.12/</span> <span style=\"color: #7f7f7f; text-decoration-color: #7f7f7f\">               </span>\n",
       "<span style=\"color: #7fbfbf; text-decoration-color: #7fbfbf\">                    </span>         <span style=\"color: #008000; text-decoration-color: #008000\">site-packages/kedro/framework/project/rich_logging.yml'</span> as logging     <span style=\"color: #7f7f7f; text-decoration-color: #7f7f7f\">               </span>\n",
       "<span style=\"color: #7fbfbf; text-decoration-color: #7fbfbf\">                    </span>         configuration.                                                         <span style=\"color: #7f7f7f; text-decoration-color: #7f7f7f\">               </span>\n",
       "</pre>\n"
      ],
      "text/plain": [
       "\u001b[2;36m[04/16/25 09:23:59]\u001b[0m\u001b[2;36m \u001b[0m\u001b[34mINFO    \u001b[0m Using                                                                  \u001b]8;id=761505;file:///home/cristian/repos/challenge-salary-prediction/venv/lib/python3.12/site-packages/kedro/framework/project/__init__.py\u001b\\\u001b[2m__init__.py\u001b[0m\u001b]8;;\u001b\\\u001b[2m:\u001b[0m\u001b]8;id=921099;file:///home/cristian/repos/challenge-salary-prediction/venv/lib/python3.12/site-packages/kedro/framework/project/__init__.py#270\u001b\\\u001b[2m270\u001b[0m\u001b]8;;\u001b\\\n",
       "\u001b[2;36m                    \u001b[0m         \u001b[32m'/home/cristian/repos/challenge-salary-prediction/venv/lib/python3.12/\u001b[0m \u001b[2m               \u001b[0m\n",
       "\u001b[2;36m                    \u001b[0m         \u001b[32msite-packages/kedro/framework/project/rich_logging.yml'\u001b[0m as logging     \u001b[2m               \u001b[0m\n",
       "\u001b[2;36m                    \u001b[0m         configuration.                                                         \u001b[2m               \u001b[0m\n"
      ]
     },
     "metadata": {},
     "output_type": "display_data"
    },
    {
     "data": {
      "text/html": [
       "<pre style=\"white-space:pre;overflow-x:auto;line-height:normal;font-family:Menlo,'DejaVu Sans Mono',consolas,'Courier New',monospace\"><span style=\"color: #7fbfbf; text-decoration-color: #7fbfbf\">[04/16/25 09:24:00] </span><span style=\"color: #808000; text-decoration-color: #808000\">WARNING </span> <span style=\"color: #800080; text-decoration-color: #800080\">/home/cristian/repos/challenge-salary-prediction/venv/lib/python3.12/s</span> <a href=\"file:///usr/lib/python3.12/warnings.py\" target=\"_blank\"><span style=\"color: #7f7f7f; text-decoration-color: #7f7f7f\">warnings.py</span></a><span style=\"color: #7f7f7f; text-decoration-color: #7f7f7f\">:</span><a href=\"file:///usr/lib/python3.12/warnings.py#110\" target=\"_blank\"><span style=\"color: #7f7f7f; text-decoration-color: #7f7f7f\">110</span></a>\n",
       "<span style=\"color: #7fbfbf; text-decoration-color: #7fbfbf\">                    </span>         <span style=\"color: #800080; text-decoration-color: #800080\">ite-packages/kedro/io/</span><span style=\"color: #ff00ff; text-decoration-color: #ff00ff\">data_catalog.py</span>:<span style=\"color: #008080; text-decoration-color: #008080; font-weight: bold\">165</span>: KedroDeprecationWarning:    <span style=\"color: #7f7f7f; text-decoration-color: #7f7f7f\">               </span>\n",
       "<span style=\"color: #7fbfbf; text-decoration-color: #7fbfbf\">                    </span>         `DataCatalog` has been deprecated and will be replaced by              <span style=\"color: #7f7f7f; text-decoration-color: #7f7f7f\">               </span>\n",
       "<span style=\"color: #7fbfbf; text-decoration-color: #7fbfbf\">                    </span>         `KedroDataCatalog`, in Kedro <span style=\"color: #008080; text-decoration-color: #008080; font-weight: bold\">1.0</span>.<span style=\"color: #008080; text-decoration-color: #008080; font-weight: bold\">0.</span>Currently some `KedroDataCatalog`   <span style=\"color: #7f7f7f; text-decoration-color: #7f7f7f\">               </span>\n",
       "<span style=\"color: #7fbfbf; text-decoration-color: #7fbfbf\">                    </span>         APIs have been retained for compatibility with `DataCatalog`,          <span style=\"color: #7f7f7f; text-decoration-color: #7f7f7f\">               </span>\n",
       "<span style=\"color: #7fbfbf; text-decoration-color: #7fbfbf\">                    </span>         including the `datasets` property and the `get_datasets`,              <span style=\"color: #7f7f7f; text-decoration-color: #7f7f7f\">               </span>\n",
       "<span style=\"color: #7fbfbf; text-decoration-color: #7fbfbf\">                    </span>         `_get_datasets`, `add`,` list`, `add_feed_dict`, and `shallow_copy`    <span style=\"color: #7f7f7f; text-decoration-color: #7f7f7f\">               </span>\n",
       "<span style=\"color: #7fbfbf; text-decoration-color: #7fbfbf\">                    </span>         methods. These will be removed or replaced with updated alternatives   <span style=\"color: #7f7f7f; text-decoration-color: #7f7f7f\">               </span>\n",
       "<span style=\"color: #7fbfbf; text-decoration-color: #7fbfbf\">                    </span>         in Kedro <span style=\"color: #008080; text-decoration-color: #008080; font-weight: bold\">1.0</span>.<span style=\"color: #008080; text-decoration-color: #008080; font-weight: bold\">0</span>. For more details, refer to the documentation:          <span style=\"color: #7f7f7f; text-decoration-color: #7f7f7f\">               </span>\n",
       "<span style=\"color: #7fbfbf; text-decoration-color: #7fbfbf\">                    </span>         <span style=\"color: #0000ff; text-decoration-color: #0000ff; text-decoration: underline\">https://docs.kedro.org/en/stable/data/index.html#kedrodatacatalog-expe</span> <span style=\"color: #7f7f7f; text-decoration-color: #7f7f7f\">               </span>\n",
       "<span style=\"color: #7fbfbf; text-decoration-color: #7fbfbf\">                    </span>         <span style=\"color: #0000ff; text-decoration-color: #0000ff; text-decoration: underline\">rimental-feature</span>                                                       <span style=\"color: #7f7f7f; text-decoration-color: #7f7f7f\">               </span>\n",
       "<span style=\"color: #7fbfbf; text-decoration-color: #7fbfbf\">                    </span>           <span style=\"color: #800080; text-decoration-color: #800080; font-weight: bold\">warnings.warn</span><span style=\"font-weight: bold\">(</span>                                                       <span style=\"color: #7f7f7f; text-decoration-color: #7f7f7f\">               </span>\n",
       "<span style=\"color: #7fbfbf; text-decoration-color: #7fbfbf\">                    </span>                                                                                <span style=\"color: #7f7f7f; text-decoration-color: #7f7f7f\">               </span>\n",
       "</pre>\n"
      ],
      "text/plain": [
       "\u001b[2;36m[04/16/25 09:24:00]\u001b[0m\u001b[2;36m \u001b[0m\u001b[33mWARNING \u001b[0m \u001b[35m/home/cristian/repos/challenge-salary-prediction/venv/lib/python3.12/s\u001b[0m \u001b]8;id=665413;file:///usr/lib/python3.12/warnings.py\u001b\\\u001b[2mwarnings.py\u001b[0m\u001b]8;;\u001b\\\u001b[2m:\u001b[0m\u001b]8;id=514628;file:///usr/lib/python3.12/warnings.py#110\u001b\\\u001b[2m110\u001b[0m\u001b]8;;\u001b\\\n",
       "\u001b[2;36m                    \u001b[0m         \u001b[35mite-packages/kedro/io/\u001b[0m\u001b[95mdata_catalog.py\u001b[0m:\u001b[1;36m165\u001b[0m: KedroDeprecationWarning:    \u001b[2m               \u001b[0m\n",
       "\u001b[2;36m                    \u001b[0m         `DataCatalog` has been deprecated and will be replaced by              \u001b[2m               \u001b[0m\n",
       "\u001b[2;36m                    \u001b[0m         `KedroDataCatalog`, in Kedro \u001b[1;36m1.0\u001b[0m.\u001b[1;36m0.\u001b[0mCurrently some `KedroDataCatalog`   \u001b[2m               \u001b[0m\n",
       "\u001b[2;36m                    \u001b[0m         APIs have been retained for compatibility with `DataCatalog`,          \u001b[2m               \u001b[0m\n",
       "\u001b[2;36m                    \u001b[0m         including the `datasets` property and the `get_datasets`,              \u001b[2m               \u001b[0m\n",
       "\u001b[2;36m                    \u001b[0m         `_get_datasets`, `add`,` list`, `add_feed_dict`, and `shallow_copy`    \u001b[2m               \u001b[0m\n",
       "\u001b[2;36m                    \u001b[0m         methods. These will be removed or replaced with updated alternatives   \u001b[2m               \u001b[0m\n",
       "\u001b[2;36m                    \u001b[0m         in Kedro \u001b[1;36m1.0\u001b[0m.\u001b[1;36m0\u001b[0m. For more details, refer to the documentation:          \u001b[2m               \u001b[0m\n",
       "\u001b[2;36m                    \u001b[0m         \u001b[4;94mhttps://docs.kedro.org/en/stable/data/index.html#kedrodatacatalog-expe\u001b[0m \u001b[2m               \u001b[0m\n",
       "\u001b[2;36m                    \u001b[0m         \u001b[4;94mrimental-feature\u001b[0m                                                       \u001b[2m               \u001b[0m\n",
       "\u001b[2;36m                    \u001b[0m           \u001b[1;35mwarnings.warn\u001b[0m\u001b[1m(\u001b[0m                                                       \u001b[2m               \u001b[0m\n",
       "\u001b[2;36m                    \u001b[0m                                                                                \u001b[2m               \u001b[0m\n"
      ]
     },
     "metadata": {},
     "output_type": "display_data"
    },
    {
     "name": "stdout",
     "output_type": "stream",
     "text": [
      "Kedro context initialized successfully.\n"
     ]
    }
   ],
   "source": [
    "# Load the Kedro context so we can interact with the pipelines and datasets from within the notebook.\n",
    "from pathlib import Path\n",
    "from kedro.framework.hooks import _create_hook_manager\n",
    "from kedro.framework.project import configure_project\n",
    "from kedro.framework.context import KedroContext\n",
    "from kedro.config import OmegaConfigLoader\n",
    "import pandas as pd\n",
    "import numpy as np\n",
    "import matplotlib.pyplot as plt\n",
    "import seaborn as sns\n",
    "\n",
    "%matplotlib inline\n",
    "import warnings\n",
    "warnings.filterwarnings(\"ignore\")\n",
    "\n",
    "# Set up Kedro project context\n",
    "project_path = Path.cwd().parents[0]  # If your notebook is in ./notebooks\n",
    "configure_project(\"salary_prediction\")\n",
    "\n",
    "conf_path = project_path / \"conf\"\n",
    "env = \"local\"\n",
    "config_loader = OmegaConfigLoader(conf_source=str(conf_path))\n",
    "hook_manager = _create_hook_manager()\n",
    "\n",
    "context = KedroContext(\n",
    "    package_name=\"salary_prediction\",\n",
    "    project_path=project_path,\n",
    "    config_loader=config_loader,\n",
    "    hook_manager=hook_manager,\n",
    "    env=env,\n",
    ")\n",
    "\n",
    "catalog = context.catalog\n",
    "print(\"Kedro context initialized successfully.\")"
   ]
  },
  {
   "cell_type": "markdown",
   "id": "4854783f-cb9d-44f3-9a1f-b0b4f8667fdb",
   "metadata": {},
   "source": [
    "## 3. Data Overview"
   ]
  },
  {
   "cell_type": "markdown",
   "id": "40f5f268-7d30-46ec-9f6e-afa4bb023192",
   "metadata": {},
   "source": [
    "**Note: A detailed Exploratory Data Analysis (EDA) was conducted in a separate notebook (`notebooks/01_EDA.ipynb`). In the EDA, we explored the structure and quality of the datasets, identified missing values, and analyzed the distribution and relationships of key features with salary. We found strong correlations with age, experience, and education, grouped job titles for better modeling, and tested feature interactions. Random Forest models benefited most from including all engineered features and interactions.**\n",
    "\n",
    "\n",
    "The original dataset includes records for individuals with the following fields:\n",
    "\n",
    "- `Age`\n",
    "- `Gender`\n",
    "- `Education Level`\n",
    "- `Job Title`\n",
    "- `Years of Experience`\n",
    "- `Description` (free text)\n",
    "- `Salary` (target)\n",
    "\n",
    "In this challenge, we chose to **exclude the `Description` field** to focus solely on structured features. Future iterations could experiment with NLP techniques to incorporate this field.\n",
    "\n",
    "### 3.1. Raw Datasets\n",
    "\n",
    "Dataset composition:\n",
    "- Total number of samples: 375\n",
    "- Salary dataset: 375 rows, 2 columns (id, Salary)\n",
    "- People dataset: 375 rows, 6 columns (id, Age, Gender, Education Level, Job Title, Years of Experience)\n",
    "\n",
    "Education Levels:\n",
    "- Bachelor's: 222 samples\n",
    "- Master's: 97 samples\n",
    "- PhD: 51 samples\n",
    "\n",
    "Job Titles:\n",
    "- Diverse range of job titles (50+ unique titles)\n",
    "- Top job titles include:\n",
    "  - Director of Marketing (12 samples)\n",
    "  - Director of Operations (10 samples)\n",
    "\n",
    "Additional Features:\n",
    "- Age: Numeric value indicating age\n",
    "- Gender: Male and Female\n",
    "- Years of Experience: Numeric value indicating years of working experience\n",
    "\n",
    "\n"
   ]
  },
  {
   "cell_type": "markdown",
   "id": "18bf8893-bf02-4cc5-94f9-641c585a7085",
   "metadata": {},
   "source": [
    "### 3.2. Target Variable\n",
    "\n",
    "Salary Distribution:\n",
    "- Total valid salary entries: 373 (2 null values)\n",
    "- Mean Salary: $100,577\n",
    "- Median Salary: $95,000\n",
    "- Salary Range: $350 - $250,000\n",
    "- Standard Deviation: $48,240\n"
   ]
  },
  {
   "cell_type": "code",
   "execution_count": 2,
   "id": "7d7ed62a-18e5-44c9-b852-a8ed6fad19b6",
   "metadata": {},
   "outputs": [
    {
     "data": {
      "text/html": [
       "<pre style=\"white-space:pre;overflow-x:auto;line-height:normal;font-family:Menlo,'DejaVu Sans Mono',consolas,'Courier New',monospace\"><span style=\"color: #7fbfbf; text-decoration-color: #7fbfbf\">                    </span><span style=\"color: #000080; text-decoration-color: #000080\">INFO    </span> Loading data from <span style=\"color: #ff8700; text-decoration-color: #ff8700\">salary_raw</span> <span style=\"font-weight: bold\">(</span>CSVDataset<span style=\"font-weight: bold\">)</span><span style=\"color: #808000; text-decoration-color: #808000\">...</span>                       <a href=\"file:///home/cristian/repos/challenge-salary-prediction/venv/lib/python3.12/site-packages/kedro/io/data_catalog.py\" target=\"_blank\"><span style=\"color: #7f7f7f; text-decoration-color: #7f7f7f\">data_catalog.py</span></a><span style=\"color: #7f7f7f; text-decoration-color: #7f7f7f\">:</span><a href=\"file:///home/cristian/repos/challenge-salary-prediction/venv/lib/python3.12/site-packages/kedro/io/data_catalog.py#401\" target=\"_blank\"><span style=\"color: #7f7f7f; text-decoration-color: #7f7f7f\">401</span></a>\n",
       "</pre>\n"
      ],
      "text/plain": [
       "\u001b[2;36m                   \u001b[0m\u001b[2;36m \u001b[0m\u001b[34mINFO    \u001b[0m Loading data from \u001b[38;5;208msalary_raw\u001b[0m \u001b[1m(\u001b[0mCSVDataset\u001b[1m)\u001b[0m\u001b[33m...\u001b[0m                       \u001b]8;id=417616;file:///home/cristian/repos/challenge-salary-prediction/venv/lib/python3.12/site-packages/kedro/io/data_catalog.py\u001b\\\u001b[2mdata_catalog.py\u001b[0m\u001b]8;;\u001b\\\u001b[2m:\u001b[0m\u001b]8;id=46642;file:///home/cristian/repos/challenge-salary-prediction/venv/lib/python3.12/site-packages/kedro/io/data_catalog.py#401\u001b\\\u001b[2m401\u001b[0m\u001b]8;;\u001b\\\n"
      ]
     },
     "metadata": {},
     "output_type": "display_data"
    },
    {
     "data": {
      "text/html": [
       "<pre style=\"white-space:pre;overflow-x:auto;line-height:normal;font-family:Menlo,'DejaVu Sans Mono',consolas,'Courier New',monospace\"></pre>\n"
      ],
      "text/plain": []
     },
     "metadata": {},
     "output_type": "display_data"
    },
    {
     "data": {
      "text/html": [
       "<div>\n",
       "<style scoped>\n",
       "    .dataframe tbody tr th:only-of-type {\n",
       "        vertical-align: middle;\n",
       "    }\n",
       "\n",
       "    .dataframe tbody tr th {\n",
       "        vertical-align: top;\n",
       "    }\n",
       "\n",
       "    .dataframe thead th {\n",
       "        text-align: right;\n",
       "    }\n",
       "</style>\n",
       "<table border=\"1\" class=\"dataframe\">\n",
       "  <thead>\n",
       "    <tr style=\"text-align: right;\">\n",
       "      <th></th>\n",
       "      <th>id</th>\n",
       "      <th>Salary</th>\n",
       "    </tr>\n",
       "  </thead>\n",
       "  <tbody>\n",
       "    <tr>\n",
       "      <th>count</th>\n",
       "      <td>375.000000</td>\n",
       "      <td>373.000000</td>\n",
       "    </tr>\n",
       "    <tr>\n",
       "      <th>mean</th>\n",
       "      <td>187.000000</td>\n",
       "      <td>100577.345845</td>\n",
       "    </tr>\n",
       "    <tr>\n",
       "      <th>std</th>\n",
       "      <td>108.397417</td>\n",
       "      <td>48240.013482</td>\n",
       "    </tr>\n",
       "    <tr>\n",
       "      <th>min</th>\n",
       "      <td>0.000000</td>\n",
       "      <td>350.000000</td>\n",
       "    </tr>\n",
       "    <tr>\n",
       "      <th>25%</th>\n",
       "      <td>93.500000</td>\n",
       "      <td>55000.000000</td>\n",
       "    </tr>\n",
       "    <tr>\n",
       "      <th>50%</th>\n",
       "      <td>187.000000</td>\n",
       "      <td>95000.000000</td>\n",
       "    </tr>\n",
       "    <tr>\n",
       "      <th>75%</th>\n",
       "      <td>280.500000</td>\n",
       "      <td>140000.000000</td>\n",
       "    </tr>\n",
       "    <tr>\n",
       "      <th>max</th>\n",
       "      <td>374.000000</td>\n",
       "      <td>250000.000000</td>\n",
       "    </tr>\n",
       "  </tbody>\n",
       "</table>\n",
       "</div>"
      ],
      "text/plain": [
       "\n",
       "               id         Salary\n",
       "count  \u001b[1;36m375.000000\u001b[0m     \u001b[1;36m373.000000\u001b[0m\n",
       "mean   \u001b[1;36m187.000000\u001b[0m  \u001b[1;36m100577.345845\u001b[0m\n",
       "std    \u001b[1;36m108.397417\u001b[0m   \u001b[1;36m48240.013482\u001b[0m\n",
       "min      \u001b[1;36m0.000000\u001b[0m     \u001b[1;36m350.000000\u001b[0m\n",
       "\u001b[1;36m25\u001b[0m%     \u001b[1;36m93.500000\u001b[0m   \u001b[1;36m55000.000000\u001b[0m\n",
       "\u001b[1;36m50\u001b[0m%    \u001b[1;36m187.000000\u001b[0m   \u001b[1;36m95000.000000\u001b[0m\n",
       "\u001b[1;36m75\u001b[0m%    \u001b[1;36m280.500000\u001b[0m  \u001b[1;36m140000.000000\u001b[0m\n",
       "max    \u001b[1;36m374.000000\u001b[0m  \u001b[1;36m250000.000000\u001b[0m"
      ]
     },
     "execution_count": 2,
     "metadata": {},
     "output_type": "execute_result"
    }
   ],
   "source": [
    "salary_raw = catalog.load(\"salary_raw\")\n",
    "salary_raw.describe()"
   ]
  },
  {
   "cell_type": "code",
   "execution_count": 3,
   "id": "c9b8161e-80e9-4e13-93d2-2592ecdc3e03",
   "metadata": {},
   "outputs": [
    {
     "data": {
      "text/html": [
       "<pre style=\"white-space:pre;overflow-x:auto;line-height:normal;font-family:Menlo,'DejaVu Sans Mono',consolas,'Courier New',monospace\"><span style=\"color: #7fbfbf; text-decoration-color: #7fbfbf\">                    </span><span style=\"color: #000080; text-decoration-color: #000080\">INFO    </span> Loading data from <span style=\"color: #ff8700; text-decoration-color: #ff8700\">salary_raw</span> <span style=\"font-weight: bold\">(</span>CSVDataset<span style=\"font-weight: bold\">)</span><span style=\"color: #808000; text-decoration-color: #808000\">...</span>                       <a href=\"file:///home/cristian/repos/challenge-salary-prediction/venv/lib/python3.12/site-packages/kedro/io/data_catalog.py\" target=\"_blank\"><span style=\"color: #7f7f7f; text-decoration-color: #7f7f7f\">data_catalog.py</span></a><span style=\"color: #7f7f7f; text-decoration-color: #7f7f7f\">:</span><a href=\"file:///home/cristian/repos/challenge-salary-prediction/venv/lib/python3.12/site-packages/kedro/io/data_catalog.py#401\" target=\"_blank\"><span style=\"color: #7f7f7f; text-decoration-color: #7f7f7f\">401</span></a>\n",
       "</pre>\n"
      ],
      "text/plain": [
       "\u001b[2;36m                   \u001b[0m\u001b[2;36m \u001b[0m\u001b[34mINFO    \u001b[0m Loading data from \u001b[38;5;208msalary_raw\u001b[0m \u001b[1m(\u001b[0mCSVDataset\u001b[1m)\u001b[0m\u001b[33m...\u001b[0m                       \u001b]8;id=161811;file:///home/cristian/repos/challenge-salary-prediction/venv/lib/python3.12/site-packages/kedro/io/data_catalog.py\u001b\\\u001b[2mdata_catalog.py\u001b[0m\u001b]8;;\u001b\\\u001b[2m:\u001b[0m\u001b]8;id=955142;file:///home/cristian/repos/challenge-salary-prediction/venv/lib/python3.12/site-packages/kedro/io/data_catalog.py#401\u001b\\\u001b[2m401\u001b[0m\u001b]8;;\u001b\\\n"
      ]
     },
     "metadata": {},
     "output_type": "display_data"
    },
    {
     "data": {
      "text/html": [
       "<pre style=\"white-space:pre;overflow-x:auto;line-height:normal;font-family:Menlo,'DejaVu Sans Mono',consolas,'Courier New',monospace\"></pre>\n"
      ],
      "text/plain": []
     },
     "metadata": {},
     "output_type": "display_data"
    },
    {
     "data": {
      "image/png": "[encoded data removed]",
      "text/plain": [
       "\u001b[1m<\u001b[0m\u001b[1;95mFigure\u001b[0m\u001b[39m size 100\u001b[0m\u001b[1;36m0x1000\u001b[0m\u001b[39m with \u001b[0m\u001b[1;36m2\u001b[0m\u001b[39m Axes\u001b[0m\u001b[1m>\u001b[0m"
      ]
     },
     "metadata": {},
     "output_type": "display_data"
    },
    {
     "name": "stdout",
     "output_type": "stream",
     "text": [
      "Skewness: 0.400578053273342\n"
     ]
    }
   ],
   "source": [
    "# Distribution of the target variable\n",
    "salary_df = catalog.load(\"salary_raw\")\n",
    "\n",
    "plt.figure(figsize=(10, 10))\n",
    "\n",
    "# Histogram\n",
    "plt.subplot(2, 1, 1)\n",
    "sns.histplot(salary_df['Salary'], kde=True)\n",
    "plt.title('Salary Distribution - Histogram')\n",
    "plt.xlabel('Salary')\n",
    "plt.ylabel('Frequency')\n",
    "\n",
    "# Boxplot\n",
    "plt.subplot(2, 1, 2)\n",
    "sns.boxplot(x=salary_df['Salary'], orient='h')\n",
    "plt.title('Salary Distribution - Boxplot')\n",
    "plt.xlabel('Salary')\n",
    "\n",
    "plt.tight_layout()\n",
    "plt.show()\n",
    "\n",
    "\n",
    "print(f\"Skewness: {salary_raw['Salary'].skew()}\")"
   ]
  },
  {
   "cell_type": "code",
   "execution_count": null,
   "id": "59ca3161-c584-4f92-a021-a128629e47b9",
   "metadata": {},
   "outputs": [],
   "source": []
  },
  {
   "cell_type": "markdown",
   "id": "531f363c-9902-46d6-b7f6-29ab1bc3ef1e",
   "metadata": {},
   "source": [
    "**Key Observations:**\n",
    "- The distribution is slightly right-skewed. Salary tend to be clustered towards the lower end. Seems to not be skewed enough to necessarily require transformation.\n",
    "- The range spans from \\$350 to \\$250,000.\n",
    "- High variance (std ≈ \\$48K) suggests wide differences in compensation.\n",
    "- 2 missing values (0.53%) → easily manageable."
   ]
  },
  {
   "cell_type": "markdown",
   "id": "c484856c-42af-4c3e-b594-e1f6706bf5b4",
   "metadata": {},
   "source": [
    "### 3.3. Missing Data & Quality Checks\n",
    "Missing Data in Salary Dataset:\n",
    "- Total samples: 375\n",
    "- Valid salary entries: 373\n",
    "- Missing salary entries: 2 (0.53% of the dataset)\n",
    "- Note from EDA: \"Two null salary -> Remove in the data processing steps\"\n",
    "\n",
    "Missing Data in People Dataset:\n",
    "- Education Level: Contains nan values\n",
    "- Total samples: 375\n",
    "- Bachelor's: 222\n",
    "- Master's: 97\n",
    "- PhD: 51\n",
    "- Unspecified/Missing: Some nan entries present\n",
    "\n",
    "Missing Data in Job Title:\n",
    "- Job Title column also contains nan entries\n",
    "- Multiple unique job titles (50+ different titles)\n",
    "- Some job titles have missing values\n",
    "\n",
    "Data Quality Observations:\n",
    "- Consistent id column across datasets\n",
    "- Salary range: $350 - $250,000\n",
    "- Salary has a standard deviation of $48,240\n",
    "- Age and Years of Experience have nans"
   ]
  },
  {
   "cell_type": "markdown",
   "id": "fb2db938-413d-48d1-994f-2e939ce08f4e",
   "metadata": {},
   "source": [
    "**Missing data in features table 'people_raw'**"
   ]
  },
  {
   "cell_type": "code",
   "execution_count": 4,
   "id": "d37927ef-c635-40bb-9899-d3b55fc2f305",
   "metadata": {},
   "outputs": [
    {
     "data": {
      "text/html": [
       "<pre style=\"white-space:pre;overflow-x:auto;line-height:normal;font-family:Menlo,'DejaVu Sans Mono',consolas,'Courier New',monospace\"><span style=\"color: #7fbfbf; text-decoration-color: #7fbfbf\">[04/16/25 09:24:01] </span><span style=\"color: #000080; text-decoration-color: #000080\">INFO    </span> Loading data from <span style=\"color: #ff8700; text-decoration-color: #ff8700\">people_raw</span> <span style=\"font-weight: bold\">(</span>CSVDataset<span style=\"font-weight: bold\">)</span><span style=\"color: #808000; text-decoration-color: #808000\">...</span>                       <a href=\"file:///home/cristian/repos/challenge-salary-prediction/venv/lib/python3.12/site-packages/kedro/io/data_catalog.py\" target=\"_blank\"><span style=\"color: #7f7f7f; text-decoration-color: #7f7f7f\">data_catalog.py</span></a><span style=\"color: #7f7f7f; text-decoration-color: #7f7f7f\">:</span><a href=\"file:///home/cristian/repos/challenge-salary-prediction/venv/lib/python3.12/site-packages/kedro/io/data_catalog.py#401\" target=\"_blank\"><span style=\"color: #7f7f7f; text-decoration-color: #7f7f7f\">401</span></a>\n",
       "</pre>\n"
      ],
      "text/plain": [
       "\u001b[2;36m[04/16/25 09:24:01]\u001b[0m\u001b[2;36m \u001b[0m\u001b[34mINFO    \u001b[0m Loading data from \u001b[38;5;208mpeople_raw\u001b[0m \u001b[1m(\u001b[0mCSVDataset\u001b[1m)\u001b[0m\u001b[33m...\u001b[0m                       \u001b]8;id=743374;file:///home/cristian/repos/challenge-salary-prediction/venv/lib/python3.12/site-packages/kedro/io/data_catalog.py\u001b\\\u001b[2mdata_catalog.py\u001b[0m\u001b]8;;\u001b\\\u001b[2m:\u001b[0m\u001b]8;id=913553;file:///home/cristian/repos/challenge-salary-prediction/venv/lib/python3.12/site-packages/kedro/io/data_catalog.py#401\u001b\\\u001b[2m401\u001b[0m\u001b]8;;\u001b\\\n"
      ]
     },
     "metadata": {},
     "output_type": "display_data"
    },
    {
     "data": {
      "text/html": [
       "<pre style=\"white-space:pre;overflow-x:auto;line-height:normal;font-family:Menlo,'DejaVu Sans Mono',consolas,'Courier New',monospace\"></pre>\n"
      ],
      "text/plain": []
     },
     "metadata": {},
     "output_type": "display_data"
    },
    {
     "data": {
      "text/html": [
       "<div>\n",
       "<style scoped>\n",
       "    .dataframe tbody tr th:only-of-type {\n",
       "        vertical-align: middle;\n",
       "    }\n",
       "\n",
       "    .dataframe tbody tr th {\n",
       "        vertical-align: top;\n",
       "    }\n",
       "\n",
       "    .dataframe thead th {\n",
       "        text-align: right;\n",
       "    }\n",
       "</style>\n",
       "<table border=\"1\" class=\"dataframe\">\n",
       "  <thead>\n",
       "    <tr style=\"text-align: right;\">\n",
       "      <th></th>\n",
       "      <th>Column</th>\n",
       "      <th>Missing Count</th>\n",
       "      <th>% Missing</th>\n",
       "    </tr>\n",
       "  </thead>\n",
       "  <tbody>\n",
       "    <tr>\n",
       "      <th>1</th>\n",
       "      <td>Age</td>\n",
       "      <td>5</td>\n",
       "      <td>1.33</td>\n",
       "    </tr>\n",
       "    <tr>\n",
       "      <th>2</th>\n",
       "      <td>Gender</td>\n",
       "      <td>5</td>\n",
       "      <td>1.33</td>\n",
       "    </tr>\n",
       "    <tr>\n",
       "      <th>3</th>\n",
       "      <td>Education Level</td>\n",
       "      <td>5</td>\n",
       "      <td>1.33</td>\n",
       "    </tr>\n",
       "    <tr>\n",
       "      <th>4</th>\n",
       "      <td>Job Title</td>\n",
       "      <td>5</td>\n",
       "      <td>1.33</td>\n",
       "    </tr>\n",
       "    <tr>\n",
       "      <th>5</th>\n",
       "      <td>Years of Experience</td>\n",
       "      <td>2</td>\n",
       "      <td>0.53</td>\n",
       "    </tr>\n",
       "  </tbody>\n",
       "</table>\n",
       "</div>"
      ],
      "text/plain": [
       "\n",
       "                Column  Missing Count  % Missing\n",
       "\u001b[1;36m1\u001b[0m                  Age              \u001b[1;36m5\u001b[0m       \u001b[1;36m1.33\u001b[0m\n",
       "\u001b[1;36m2\u001b[0m               Gender              \u001b[1;36m5\u001b[0m       \u001b[1;36m1.33\u001b[0m\n",
       "\u001b[1;36m3\u001b[0m      Education Level              \u001b[1;36m5\u001b[0m       \u001b[1;36m1.33\u001b[0m\n",
       "\u001b[1;36m4\u001b[0m            Job Title              \u001b[1;36m5\u001b[0m       \u001b[1;36m1.33\u001b[0m\n",
       "\u001b[1;36m5\u001b[0m  Years of Experience              \u001b[1;36m2\u001b[0m       \u001b[1;36m0.53\u001b[0m"
      ]
     },
     "execution_count": 4,
     "metadata": {},
     "output_type": "execute_result"
    }
   ],
   "source": [
    "# Load dataset\n",
    "df_people = catalog.load(\"people_raw\")\n",
    "\n",
    "# Create a summary DataFrame for missing values\n",
    "missing_summary = (\n",
    "    df_people.isnull()\n",
    "    .sum()\n",
    "    .reset_index()\n",
    "    .rename(columns={'index': 'Column', 0: 'Missing Count'})\n",
    ")\n",
    "missing_summary['% Missing'] = (missing_summary['Missing Count'] / len(df_people) * 100).round(2)\n",
    "missing_summary = missing_summary[missing_summary['Missing Count'] > 0]  # Only show columns with missing values\n",
    "\n",
    "missing_summary\n"
   ]
  },
  {
   "cell_type": "markdown",
   "id": "db2348d1-7506-4f90-b138-1ab37088a6ab",
   "metadata": {},
   "source": [
    "The table below outlines the percentage and count of missing values in the people_raw dataset. All features have less than 2% missingness, which is manageable through imputation strategies described in the preprocessing section."
   ]
  },
  {
   "cell_type": "markdown",
   "id": "efe9201e-d6b4-4b33-92c9-b179815ec66a",
   "metadata": {},
   "source": [
    "**Missing data in target variable 'Salary'**"
   ]
  },
  {
   "cell_type": "code",
   "execution_count": 5,
   "id": "8aadf1e3-7e3f-4e27-9168-e12e2aea31f4",
   "metadata": {},
   "outputs": [
    {
     "data": {
      "text/html": [
       "<pre style=\"white-space:pre;overflow-x:auto;line-height:normal;font-family:Menlo,'DejaVu Sans Mono',consolas,'Courier New',monospace\"><span style=\"color: #7fbfbf; text-decoration-color: #7fbfbf\">                    </span><span style=\"color: #000080; text-decoration-color: #000080\">INFO    </span> Loading data from <span style=\"color: #ff8700; text-decoration-color: #ff8700\">salary_raw</span> <span style=\"font-weight: bold\">(</span>CSVDataset<span style=\"font-weight: bold\">)</span><span style=\"color: #808000; text-decoration-color: #808000\">...</span>                       <a href=\"file:///home/cristian/repos/challenge-salary-prediction/venv/lib/python3.12/site-packages/kedro/io/data_catalog.py\" target=\"_blank\"><span style=\"color: #7f7f7f; text-decoration-color: #7f7f7f\">data_catalog.py</span></a><span style=\"color: #7f7f7f; text-decoration-color: #7f7f7f\">:</span><a href=\"file:///home/cristian/repos/challenge-salary-prediction/venv/lib/python3.12/site-packages/kedro/io/data_catalog.py#401\" target=\"_blank\"><span style=\"color: #7f7f7f; text-decoration-color: #7f7f7f\">401</span></a>\n",
       "</pre>\n"
      ],
      "text/plain": [
       "\u001b[2;36m                   \u001b[0m\u001b[2;36m \u001b[0m\u001b[34mINFO    \u001b[0m Loading data from \u001b[38;5;208msalary_raw\u001b[0m \u001b[1m(\u001b[0mCSVDataset\u001b[1m)\u001b[0m\u001b[33m...\u001b[0m                       \u001b]8;id=961478;file:///home/cristian/repos/challenge-salary-prediction/venv/lib/python3.12/site-packages/kedro/io/data_catalog.py\u001b\\\u001b[2mdata_catalog.py\u001b[0m\u001b]8;;\u001b\\\u001b[2m:\u001b[0m\u001b]8;id=985357;file:///home/cristian/repos/challenge-salary-prediction/venv/lib/python3.12/site-packages/kedro/io/data_catalog.py#401\u001b\\\u001b[2m401\u001b[0m\u001b]8;;\u001b\\\n"
      ]
     },
     "metadata": {},
     "output_type": "display_data"
    },
    {
     "data": {
      "text/html": [
       "<pre style=\"white-space:pre;overflow-x:auto;line-height:normal;font-family:Menlo,'DejaVu Sans Mono',consolas,'Courier New',monospace\"></pre>\n"
      ],
      "text/plain": []
     },
     "metadata": {},
     "output_type": "display_data"
    },
    {
     "data": {
      "text/html": [
       "<div>\n",
       "<style scoped>\n",
       "    .dataframe tbody tr th:only-of-type {\n",
       "        vertical-align: middle;\n",
       "    }\n",
       "\n",
       "    .dataframe tbody tr th {\n",
       "        vertical-align: top;\n",
       "    }\n",
       "\n",
       "    .dataframe thead th {\n",
       "        text-align: right;\n",
       "    }\n",
       "</style>\n",
       "<table border=\"1\" class=\"dataframe\">\n",
       "  <thead>\n",
       "    <tr style=\"text-align: right;\">\n",
       "      <th></th>\n",
       "      <th>Column</th>\n",
       "      <th>Missing Count</th>\n",
       "      <th>% Missing</th>\n",
       "    </tr>\n",
       "  </thead>\n",
       "  <tbody>\n",
       "    <tr>\n",
       "      <th>1</th>\n",
       "      <td>Salary</td>\n",
       "      <td>2</td>\n",
       "      <td>0.53</td>\n",
       "    </tr>\n",
       "  </tbody>\n",
       "</table>\n",
       "</div>"
      ],
      "text/plain": [
       "\n",
       "   Column  Missing Count  % Missing\n",
       "\u001b[1;36m1\u001b[0m  Salary              \u001b[1;36m2\u001b[0m       \u001b[1;36m0.53\u001b[0m"
      ]
     },
     "execution_count": 5,
     "metadata": {},
     "output_type": "execute_result"
    }
   ],
   "source": [
    "# Load dataset\n",
    "df_salary = catalog.load(\"salary_raw\")\n",
    "\n",
    "# Create a summary DataFrame for missing values\n",
    "missing_summary = (\n",
    "    df_salary.isnull()\n",
    "    .sum()\n",
    "    .reset_index()\n",
    "    .rename(columns={'index': 'Column', 0: 'Missing Count'})\n",
    ")\n",
    "missing_summary['% Missing'] = (missing_summary['Missing Count'] / len(df_people) * 100).round(2)\n",
    "missing_summary = missing_summary[missing_summary['Missing Count'] > 0]  # Only show columns with missing values\n",
    "\n",
    "missing_summary"
   ]
  },
  {
   "cell_type": "markdown",
   "id": "2b532353-d4d5-4be3-9808-a9c595c874b2",
   "metadata": {},
   "source": [
    "**Review the `notebooks/01_EDA.ipynb` notebook with the exploratory data analysis**"
   ]
  },
  {
   "cell_type": "markdown",
   "id": "1d356c4f-d6e9-4561-ada8-f0efa18dd1df",
   "metadata": {},
   "source": [
    "## 4. Preprocessing & Feature Engineering"
   ]
  },
  {
   "cell_type": "markdown",
   "id": "85d257dd-72ba-4d13-ad3b-f70cec7f5f21",
   "metadata": {},
   "source": [
    "To ensure consistent and high-quality inputs for modeling, the project defines two alternative preprocessing pipelines. Both pipelines share a common initial preprocessing stage followed by a versioned transformation step, enabling experimentation with multiple feature engineering strategies.\n",
    "\n",
    "### Common Preprocessing Steps\n",
    "\n",
    "All preprocessing versions begin with a shared set of operations:\n",
    "- Merging datasets: The people and salary datasets are joined on the 'id' column.\n",
    "- Cleaning: Duplicate rows are removed and entries with missing target values are dropped.\n",
    "- Train-test split: Features and target are separated, and the data is split, with a configurable random seed for reproducibility.\n",
    "\n",
    "### Preprocessing Pipelines\n",
    "Two distinct pipelines are defined for transforming features:\n",
    "\n",
    "- Version 1 (v1): Basic Pipeline. This pipeline serves as a baseline with minimal transformation logic to retain interpretability and test model robustness on less processed features.\n",
    "  - Missing value imputation:\n",
    "    - Numerical columns: median strategy.\n",
    "    - Categorical columns: most frequent value.\n",
    "  - Encoding:\n",
    "    - Low-cardinality categorical features: One-Hot Encoding (with drop=\"first\" to avoid multicollinearity).\n",
    "    - High-cardinality features: encoded using Ordinal Encoding (with unknown_value=-1 to handle unseen categories).\n",
    "  - All numerical features are scaled using StandardScaler (zero mean, unit variance).\n",
    "\n",
    "   \n",
    "- Version 2 (v2): Enhanced Pipeline. This version introduces more advanced feature engineering techniques to enrich the dataset with domain-specific transformations and improved encoding strategies\n",
    "  - Job Title Grouping: Job titles are categorized into hierarchical groups based on both seniority (e.g., Junior, Senior, Executive) and department (e.g., Technical, HR, Marketing). This new JobTitleGroup feature replaces the original raw title to reduce cardinality while preserving semantic meaning.\n",
    "  - Optional interaction features (configurable via parameters):\n",
    "    - Age × Years of Experience: Captures non-linear relationships between maturity and experience.\n",
    "    - Education Level × Years of Experience: Combines formal education with practical experience using an ordinal mapping.\n",
    "  - Missing value imputation:\n",
    "    - Numerical columns: imputed using the median.\n",
    "    - Categorical columns (including grouped job titles and education): imputed using the most frequent value.\n",
    "  - Encoding:\n",
    "    - Education Level: encoded using Ordinal Encoding with a predefined hierarchy (e.g., Bachelor's < Master's < PhD).\n",
    "    - Grouped job titles and low-cardinality features: encoded using One-Hot Encoding (with drop=\"first\" to avoid redundancy).\n",
    "  - Feature scaling:\n",
    "    - All numerical features are scaled using StandardScaler (zero mean, unit variance).\n"
   ]
  },
  {
   "cell_type": "markdown",
   "id": "5f330c76-e4f4-4c7b-8189-1b50ddce035c",
   "metadata": {},
   "source": [
    "#### Feature Treatment Summary by Pipeline\n",
    "\n",
    "| Feature                     | Type                  | v1: Basic Pipeline                                                              | v2: Enhanced Pipeline                                                                 |\n",
    "|-----------------------------|-----------------------|----------------------------------------------------------------------------------|----------------------------------------------------------------------------------------|\n",
    "| `Age`                       | Numerical             | Median imputation → StandardScaler                                              | Median imputation → StandardScaler                                                    |\n",
    "| `Years of Experience`       | Numerical             | Median imputation → StandardScaler                                              | Median imputation → StandardScaler                                                    |\n",
    "| `Gender`                    | Low-card Categorical  | Mode imputation → OneHotEncoder (drop=\"first\")                                  | Mode imputation → OneHotEncoder (drop=\"first\")                                        |\n",
    "| `Education Level`           | Ordinal Categorical   | Mode imputation → OneHotEncoder (drop=\"first\")                                  | Mode imputation → OrdinalEncoder (predefined order, unknown → -1)                     |\n",
    "| `Job Title`                 | High-card Categorical | Mode imputation → OrdinalEncoder (unknown → -1)                                 | ❌ Dropped — replaced by `JobTitleGroup`                                               |\n",
    "| `JobTitleGroup`             | Derived Categorical   | ❌ Not present                                                                   | Derived from `Job Title` → Mode imputation → OneHotEncoder (drop=\"first\")             |\n",
    "| `Age × Experience`          | Interaction           | ❌ Not included                                                                  | Optional (via parameter) → Created + StandardScaler                                   |\n",
    "| `Education × Experience`    | Interaction           | ❌ Not included                                                                  | Optional (via parameter) → Ordinal × Experience → StandardScaler                      |\n",
    "| Other low-card categoricals | Categorical           | Mode imputation → OneHotEncoder (drop=\"first\")                                  | Mode imputation → OneHotEncoder (drop=\"first\")                                        |\n",
    "| Other high-card categoricals| Categorical           | Mode imputation → OrdinalEncoder (unknown → -1)                                 | Mode imputation → OrdinalEncoder (unknown → -1)                                       |"
   ]
  },
  {
   "cell_type": "markdown",
   "id": "d4c1096d-e081-4d2c-bed0-c397daa3d31d",
   "metadata": {},
   "source": [
    "## 5. Modeling Approach"
   ]
  },
  {
   "cell_type": "markdown",
   "id": "aa6a5740-d264-473f-8c6c-bf11e5e77d3e",
   "metadata": {},
   "source": [
    "This section details the various regression models developed to predict salaries based on two preprocessing versions (v1 and v2). Models span from simple baselines to complex tree-based ensembles, including hyperparameter tuning and feature selection strategies.\n",
    "\n",
    "### 5.1. Baseline & Linear Models\n",
    "To establish a performance benchmark, a DummyRegressor was used, which predicts the mean salary regardless of input. This sets the lower bound for model performance.\n",
    "\n",
    "Subsequently, a Linear Regression model was trained on the preprocessed features. This model serves as a simple yet interpretable baseline leveraging all numeric and encoded categorical variables without regularization.\n",
    "\n",
    "- Assumptions of Linear Regression:\n",
    "  - Linearity: The relationship between features and the target is linear.\n",
    "  - Independence: Observations are independent.\n",
    "  - Homoscedasticity: Constant variance of errors across all levels of the independent variables.\n",
    "  - Normality of residuals: Residuals are normally distributed.\n",
    "  - No multicollinearity: Features are not highly correlated.\n",
    "\n",
    "- Assessment:\n",
    "  - Partially met. Independence and linearity may be reasonable for some features like \"Age\" or \"Experience\", but overall, salary prediction often involves non-linearities (e.g., education-job title interactions).\n",
    "  - Homoscedasticity and normality often violated in salary data, especially with high-income outliers.\n",
    "  - Multicollinearity is likely present (e.g., between Age and Years of Experience).\n",
    "\n",
    "All models in this group were evaluated using cross-validation and tested on the v1 preprocessed datasets.\n",
    "\n",
    "### 5.2. Regularized Models (Lasso, ElasticNet)\n",
    "To address multicollinearity and enhance generalization, two regularized linear models were employed:\n",
    "\n",
    " - Lasso Regression: L1-penalized regression that performs variable selection by shrinking some coefficients to zero.\n",
    " - ElasticNet Regression: Combines L1 and L2 penalties, balancing between feature selection and coefficient shrinkage.\n",
    "\n",
    "Lasso Regression was trained on both preprocessed versions of data, and ElasticNet on v2-preprocessed data. Additionally, ElasticNet was further optimized via Optuna to search for the best alpha and l1_ratio values. This resulted in an \"ElasticNet Optimized\" model.\n",
    "\n",
    "- Assumptions:\n",
    "  - Same as Linear Regression, but they tolerate multicollinearity better.\n",
    "  - They assume some degree of sparsity, i.e., that only a subset of features are truly relevant.\n",
    "\n",
    "- Assessment:\n",
    "  - Better suited than plain linear regression. They help address multicollinearity and overfitting by shrinking or eliminating coefficients.\n",
    "  - Still sensitive to non-linearity and heteroscedasticity, which might not be fully met in this dataset.\n",
    "\n",
    "ElasticNet Optimized\n",
    "- Assumptions: Same as ElasticNet, with better parameter tuning to adapt to specific data characteristics.\n",
    "- Assessment:\n",
    "  - Improved performance and generalization through Optuna tuning. The regularization parameters were selected to balance variance and bias effectively.\n",
    "\n",
    "Each variant was evaluated using cross-validation with confidence intervals computed for MSE, RMSE, and R².\n",
    "\n",
    "### 5.3. Tree-Based Models (RF, XGBoost)\n",
    "To capture non-linear relationships and feature interactions, tree-based regressors were trained:\n",
    "\n",
    "- Random Forest Regressor:\n",
    "  - Trained using both v1 and v2 pipelines.\n",
    "  - Further enhanced with Optuna-based hyperparameter tuning.\n",
    "\n",
    "- XGBoost Regressor:\n",
    "  - Trained only on the v2-preprocessed data.\n",
    "  - Hyperparameters such as n_estimators, max_depth, and learning_rate were optimized using Optuna.\n",
    "\n",
    "- Assumptions:\n",
    "  - No linearity assumption.\n",
    "  - Handles multicollinearity naturally.\n",
    "  - Robust to outliers and heteroscedasticity.\n",
    "  - Assumes independent observations.\n",
    "\n",
    "- Assessment:\n",
    "  - Well-suited to salary prediction: flexible, non-parametric, and powerful for capturing complex patterns without extensive preprocessing.\n",
    "  - Can overfit if not tuned, but Optuna optimization mitigates this.\n",
    "\n",
    "XGBoost\n",
    "- Assumptions:\n",
    "  - Same as Random Forest, plus:\n",
    "  - Tends to assume clean and properly encoded data.\n",
    "  - Sensitive to outlier-target leakage if not handled.\n",
    "\n",
    "- Assessment:\n",
    "  - Performs very well in structured data problems like salary prediction.\n",
    "  - The preprocessing pipeline ensures proper encoding, so assumptions are largely met.\n",
    "\n",
    "All tree-based models were evaluated using stratified cross-validation, and performance metrics include both point estimates and 95% confidence intervals.\n",
    "\n",
    "### 5.4. Hyperparameter Optimization\n",
    "For selected models (ElasticNet, RandomForest, and XGBoost), hyperparameters were tuned using Optuna's TPE sampler. Trials optimized for negative mean squared error (MSE) using cross-validation, with reproducibility enforced via fixed random seeds.\n",
    "\n",
    "Each study reported the best hyperparameter set and corresponding CV score.\n",
    "\n",
    "### 5.5. SHAP-Based Feature Selection\n",
    "To explore explainability and reduce feature dimensionality:\n",
    "\n",
    "A Random Forest model was trained on v2-preprocessed data.\n",
    " - SHAP (SHapley Additive exPlanations) values were computed to assess feature importance.\n",
    " - Features were selected based on importance (either threshold or top-n selection, as configured).\n",
    " - A new Random Forest model was then trained on the SHAP-selected subset.\n",
    "\n",
    "This variant was also evaluated using cross-validation, with metrics and confidence intervals reported to gauge performance relative to the full-feature RF model.\n",
    "\n",
    "\n",
    "#### Models assumptions summary\n",
    "| Model                     | Linearity Assumed | Multicollinearity Tolerant | Outlier Robust | Feature Selection | Assumptions Met    |\n",
    "|--------------------------|-------------------|-----------------------------|----------------|-------------------|---------------------|\n",
    "| DummyRegressor           | –                 | –                           | –              | –                 | ✅ N/A              |\n",
    "| LinearRegression         | ✅ Required       | ❌ No                        | ❌ No          | ❌ No             | ⚠️ Partially        |\n",
    "| Lasso                    | ✅ Required       | ✅ Yes                       | ❌ No          | ✅ Yes            | ⚠️ Partially        |\n",
    "| ElasticNet               | ✅ Required       | ✅ Yes                       | ❌ No          | ✅ Yes            | ⚠️ Partially        |\n",
    "| ElasticNet (Optimized)   | ✅ Required       | ✅ Yes                       | ❌ No          | ✅ Yes            | ✅ Improved         |\n",
    "| Random Forest            | ❌ No             | ✅ Yes                       | ✅ Yes         | ✅ Implicit       | ✅ Well-suited      |\n",
    "| XGBoost (Optimized)      | ❌ No             | ✅ Yes                       | ✅ Yes         | ✅ Implicit       | ✅ Well-suited      |\n",
    "| RF + SHAP                | ❌ No             | ✅ Yes                       | ✅ Yes         | ✅ Explicit       | ✅ Enhanced         |\n",
    "\n",
    "\n",
    "\n",
    "\n",
    "#### Modeling Summary\n",
    "\n",
    "| Model                          | Type                 | Preprocessing Version | Hyperparameter Optimization | Feature Selection        | Notes                                                              |\n",
    "|-------------------------------|----------------------|------------------------|-----------------------------|---------------------------|--------------------------------------------------------------------|\n",
    "| DummyRegressor                | Baseline             | v1                     | ❌                          | ❌                        | Predicts mean salary; used as baseline                             |\n",
    "| Linear Regression             | Linear               | v1                     | ❌                          | ❌                        | Interpretable model; assumes linearity                             |\n",
    "| Lasso Regression              | Regularized Linear   | v1, v2                 | ❌                          | ❌                        | Performs feature selection via L1 regularization                   |\n",
    "| Elastic Net                  | Regularized Linear   | v2                     | ❌                          | ❌                        | Combines L1 & L2; balance between sparsity and shrinkage           |\n",
    "| Elastic Net (Optimized)       | Regularized Linear   | v2                     | ✅ (Optuna)                 | ❌                        | Optimized `alpha` and `l1_ratio` for best performance              |\n",
    "| Random Forest                 | Tree-based Ensemble  | v1, v2                 | ❌                          | ❌                        | Handles non-linearities and interactions                          |\n",
    "| Random Forest (Optimized)     | Tree-based Ensemble  | v2                     | ✅ (Optuna)                 | ❌                        | Improved performance with tuned `n_estimators`, `max_depth`, etc. |\n",
    "| XGBoost (Optimized)           | Tree-based Ensemble  | v2                     | ✅ (Optuna)                 | ❌                        | Efficient, regularized boosting; tuned with Optuna                |\n",
    "| Random Forest + SHAP          | Tree-based Ensemble  | v2                     | ❌                          | ✅ (SHAP top features)    | Trained only on SHAP-selected features                            |"
   ]
  },
  {
   "cell_type": "markdown",
   "id": "85a47060-e27b-43e9-bf9b-ae9f6d68556b",
   "metadata": {},
   "source": [
    "## 6. Model Evaluation\n",
    "\n",
    "### 6.1. Evaluation Metrics <a name=\"metrics-explained\"></a>\n",
    "To assess and compare the performance of the different models in this challenge, we relied on three core regression metrics:\n",
    "- Mean Squared Error (MSE): Measures the average of the squared errors, penalizing larger deviations more than smaller ones.\n",
    "- Root Mean Squared Error (RMSE): The square root of MSE, providing a more interpretable value in the same unit as the target variable.\n",
    "- R² Score: Indicates the proportion of variance in the target variable explained by the model. Values closer to 1 suggest better performance.\n",
    "\n",
    "Each model was evaluated using k-fold cross-validation (CV), a robust resampling technique that ensures stable performance estimation. Specifically, each score was averaged across multiple CV folds to mitigate the impact of a single, possibly unrepresentative train-test split. This yielded per-fold metrics (e.g., rmse_folds) which were then aggregated to compute the mean (rmse) and the corresponding 95% confidence intervals."
   ]
  },
  {
   "cell_type": "markdown",
   "id": "3eda1a4f-6924-4748-82d7-2788d1c760de",
   "metadata": {},
   "source": [
    "### 6.2. Confidence Intervals <a name=\"confidence-intervals\"></a>\n",
    "\n",
    "Inspired by [Raschka’s guidelines](https://sebastianraschka.com/blog/2022/confidence-intervals-for-ml.html), we computed 95% confidence intervals for each evaluation metric using the t-distribution over K-Fold CV scores:\n",
    "\n",
    "For each model, we report the mean metric (e.g., RMSE) and its interval:\n",
    "- Mean ± CI provides a plausible range for the metric's true value on unseen data.\n",
    "- Fold-wise scores are also stored for transparency and further statistical testing.\n",
    "\n",
    "This approach corresponds to Method 2.1 (t CI from bootstrap samples) in Raschka’s classification, with the distinction that we use cross-validation instead of bootstrap resampling. The rationale is computational efficiency and alignment with established ML evaluation procedures."
   ]
  },
  {
   "cell_type": "markdown",
   "id": "92bfc583-a48a-45fc-b025-509e7607e0bb",
   "metadata": {},
   "source": [
    " ### 6.3. Performance Comparison Table"
   ]
  },
  {
   "cell_type": "markdown",
   "id": "109ae1b8-3f44-40ae-8eb8-eaed17886888",
   "metadata": {},
   "source": [
    "| Model                 |    RMSE |         MSE |          R² | Preprocessing   | Used SHAP   | Used Optuna   | RMSE CI              | MSE CI                         | R² CI         | RMSE folds                                       |   |\n",
    "|:----------------------|--------:|------------:|------------:|:----------------|:------------|:--------------|:---------------------|:-------------------------------|:--------------|:-------------------------------------------------|:-----------|\n",
    "| RandomForestRegressor | 16080.1 | 2.62521e+08 |  0.884164   | pp_v2           | True        | False         | [13320.37, 18839.77] | [174844794.68, 350196275.83]   | [0.86, 0.91]  | 15547.68, 12907.38, 17376.15, 18838.36, 15730.79 |            |\n",
    "| RandomForestRegressor | 15368.8 | 2.37084e+08 |  0.893424   | pp_v1           | False       | False         | [14063.93, 16673.67] | [196318485.91, 277848667.47]   | [0.87, 0.92]  | 15058.21, 15211.70, 16992.99, 14087.09, 15494.02 |            |\n",
    "| Lasso                 | 15548.7 | 2.4524e+08  |  0.891347   | pp_v1           | False       | False         | [12959.96, 18137.45] | [165741747.28, 324737419.92]   | [0.86, 0.92]  | 15850.54, 12541.02, 16292.41, 18228.58, 14830.96 |            |\n",
    "| DummyRegressor        | 49022.2 | 2.40317e+09 | -0.00233251 |                 | False       | False         |                      |                                |               |                                                  |            |\n",
    "| XGBRegressor          | 12728   | 1.65556e+08 |  0.926316   | pp_v2           | False       | True          | [10111.16, 15344.89] | [104395573.51, 226716600.94]   | [0.90, 0.95]  | 13497.75, 9150.57, 13591.47, 14633.10, 12767.25  |            |\n",
    "| DummyRegressor        | 48158.4 | 2.32767e+09 | -0.0320521  | pp_v1           | False       | False         | [44125.48, 52191.33] | [1941110039.55, 2714232943.41] | [-0.07, 0.01] | 43903.69, 48485.24, 50429.76, 51941.12, 46032.21 |            |\n",
    "| LinearRegression      | 15550.5 | 2.45295e+08 |  0.891316   | pp_v1           | False       | False         | [12962.29, 18138.77] | [165826615.20, 324763623.04]   | [0.86, 0.92]  | 15860.66, 12541.06, 16294.15, 18225.73, 14831.05 |            |\n",
    "| RandomForestRegressor | 15013.5 | 2.29602e+08 |  0.898015   | pp_v2           | False       | True          | [12169.12, 17857.83] | [147320634.42, 311884128.58]   | [0.86, 0.93]  | 16012.27, 11631.73, 16194.23, 17408.96, 13820.17 |            |\n",
    "| Lasso                 | 14463.4 | 2.11373e+08 |  0.904932   | pp_v2           | False       | False         | [12412.72, 16514.17] | [155044941.19, 267701831.45]   | [0.87, 0.94]  | 15654.22, 15739.84, 14116.50, 15061.01, 11745.64 |            |\n",
    "| ElasticNet            | 16027   | 2.62636e+08 |  0.885189   | pp_v2           | False       | False         | [12692.27, 19361.80] | [150562042.02, 374710623.26]   | [0.85, 0.92]  | 14801.81, 13106.03, 17021.72, 20138.89, 15066.74 |            |\n",
    "| RandomForestRegressor | 15415.9 | 2.4146e+08  |  0.89304    | pp_v2           | False       | False         | [12705.78, 18125.96] | [159981119.76, 322938953.45]   | [0.86, 0.92]  | 15806.02, 12335.34, 17166.90, 17604.02, 14167.06 |            |\n",
    "| ElasticNet            | 13221.4 | 1.772e+08   |  0.921205   | pp_v2           | False       | True          | [11073.53, 15369.31] | [120978887.35, 233421004.05]   | [0.90, 0.94]  | 14072.36, 10985.58, 13806.13, 15292.51, 11950.54 |            |"
   ]
  }
 ],
 "metadata": {
  "kernelspec": {
   "display_name": "Python 3 (ipykernel)",
   "language": "python",
   "name": "python3"
  },
  "language_info": {
   "codemirror_mode": {
    "name": "ipython",
    "version": 3
   },
   "file_extension": ".py",
   "mimetype": "text/x-python",
   "name": "python",
   "nbconvert_exporter": "python",
   "pygments_lexer": "ipython3",
   "version": "3.12.3"
  }
 },
 "nbformat": 4,
 "nbformat_minor": 5
}
